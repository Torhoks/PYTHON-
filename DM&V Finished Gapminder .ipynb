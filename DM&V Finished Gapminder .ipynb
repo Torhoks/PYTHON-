{
 "cells": [
  {
   "cell_type": "markdown",
   "metadata": {},
   "source": [
    "# Below you will find step by step code. for output that displays three of my variables as frequency tables and analysis as per assignment requirements please scroll all the way down."
   ]
  },
  {
   "cell_type": "markdown",
   "metadata": {},
   "source": [
    "### Import necesary libraries"
   ]
  },
  {
   "cell_type": "code",
   "execution_count": 28,
   "metadata": {},
   "outputs": [],
   "source": [
    "import numpy as np\n",
    "import pandas as pd\n",
    "import matplotlib.pyplot as plt \n",
    "import seaborn as sns"
   ]
  },
  {
   "cell_type": "markdown",
   "metadata": {},
   "source": [
    "### Read Dataset as Pandas "
   ]
  },
  {
   "cell_type": "code",
   "execution_count": 2,
   "metadata": {},
   "outputs": [],
   "source": [
    "df = pd.read_csv('gapminder.csv',low_memory = False)"
   ]
  },
  {
   "cell_type": "markdown",
   "metadata": {},
   "source": [
    "### Since all variables are as objects, let's convert them into numeric for analysis\n",
    "Error = 'coerce' will ensure to fill the blanks with \"NaN"
   ]
  },
  {
   "cell_type": "code",
   "execution_count": 93,
   "metadata": {},
   "outputs": [],
   "source": [
    "df['employrate'] = pd.to_numeric(df['employrate'],errors='coerce')\n",
    "df['incomeperperson'] = pd.to_numeric(df['incomeperperson'],errors='coerce')\n",
    "df['femaleemployrate'] = pd.to_numeric(df['femaleemployrate'],errors='coerce')\n",
    "df['polityscore'] = pd.to_numeric(df['polityscore'],errors='coerce')\n",
    "df['internetuserate'] = pd.to_numeric(df['internetuserate'],errors='coerce')\n",
    "df['relectricperperson'] = pd.to_numeric(df['relectricperperson'],errors='coerce')\n",
    "df['alcconsumption'] = pd.to_numeric(df['alcconsumption'],errors='coerce')\n",
    "df['breastcancerper100th'] = pd.to_numeric(df['breastcancerper100th'],errors='coerce')\n",
    "df['lifeexpectancy'] = pd.to_numeric(df['lifeexpectancy'],errors='coerce')\n"
   ]
  },
  {
   "cell_type": "markdown",
   "metadata": {},
   "source": [
    "### Remove NaN rows from data \n",
    "#### Since I want to analyze income per person it makes no sense to analyze countries without this value, I removed NaNs from the 3 Main variables as well."
   ]
  },
  {
   "cell_type": "code",
   "execution_count": 4,
   "metadata": {},
   "outputs": [],
   "source": [
    "df.dropna(subset = [\"incomeperperson\"], inplace=True)\n",
    "df.dropna(subset = [\"employrate\"], inplace=True)\n",
    "df.dropna(subset = [\"femaleemployrate\"], inplace=True)\n",
    "df.dropna(subset = [\"polityscore\"], inplace=True)"
   ]
  },
  {
   "cell_type": "code",
   "execution_count": 5,
   "metadata": {},
   "outputs": [
    {
     "data": {
      "text/html": [
       "<div>\n",
       "<style scoped>\n",
       "    .dataframe tbody tr th:only-of-type {\n",
       "        vertical-align: middle;\n",
       "    }\n",
       "\n",
       "    .dataframe tbody tr th {\n",
       "        vertical-align: top;\n",
       "    }\n",
       "\n",
       "    .dataframe thead th {\n",
       "        text-align: right;\n",
       "    }\n",
       "</style>\n",
       "<table border=\"1\" class=\"dataframe\">\n",
       "  <thead>\n",
       "    <tr style=\"text-align: right;\">\n",
       "      <th></th>\n",
       "      <th>country</th>\n",
       "      <th>incomeperperson</th>\n",
       "      <th>alcconsumption</th>\n",
       "      <th>armedforcesrate</th>\n",
       "      <th>breastcancerper100th</th>\n",
       "      <th>co2emissions</th>\n",
       "      <th>femaleemployrate</th>\n",
       "      <th>hivrate</th>\n",
       "      <th>internetuserate</th>\n",
       "      <th>lifeexpectancy</th>\n",
       "      <th>oilperperson</th>\n",
       "      <th>polityscore</th>\n",
       "      <th>relectricperperson</th>\n",
       "      <th>suicideper100th</th>\n",
       "      <th>employrate</th>\n",
       "      <th>urbanrate</th>\n",
       "    </tr>\n",
       "  </thead>\n",
       "  <tbody>\n",
       "    <tr>\n",
       "      <td>1</td>\n",
       "      <td>Albania</td>\n",
       "      <td>1914.996551</td>\n",
       "      <td>7.29</td>\n",
       "      <td>1.0247361</td>\n",
       "      <td>57.4</td>\n",
       "      <td>223747333.333333</td>\n",
       "      <td>42.099998</td>\n",
       "      <td></td>\n",
       "      <td>44.989947</td>\n",
       "      <td>76.918</td>\n",
       "      <td></td>\n",
       "      <td>9.0</td>\n",
       "      <td>636.341383</td>\n",
       "      <td>7.69932985305786</td>\n",
       "      <td>51.400002</td>\n",
       "      <td>46.72</td>\n",
       "    </tr>\n",
       "    <tr>\n",
       "      <td>2</td>\n",
       "      <td>Algeria</td>\n",
       "      <td>2231.993335</td>\n",
       "      <td>0.69</td>\n",
       "      <td>2.306817</td>\n",
       "      <td>23.5</td>\n",
       "      <td>2932108666.66667</td>\n",
       "      <td>31.700001</td>\n",
       "      <td>.1</td>\n",
       "      <td>12.500073</td>\n",
       "      <td>73.131</td>\n",
       "      <td>.42009452521537</td>\n",
       "      <td>2.0</td>\n",
       "      <td>590.509814</td>\n",
       "      <td>4.8487696647644</td>\n",
       "      <td>50.500000</td>\n",
       "      <td>65.22</td>\n",
       "    </tr>\n",
       "    <tr>\n",
       "      <td>4</td>\n",
       "      <td>Angola</td>\n",
       "      <td>1381.004268</td>\n",
       "      <td>5.57</td>\n",
       "      <td>1.4613288</td>\n",
       "      <td>23.1</td>\n",
       "      <td>248358000</td>\n",
       "      <td>69.400002</td>\n",
       "      <td>2</td>\n",
       "      <td>9.999954</td>\n",
       "      <td>51.093</td>\n",
       "      <td></td>\n",
       "      <td>-2.0</td>\n",
       "      <td>172.999227</td>\n",
       "      <td>14.5546770095825</td>\n",
       "      <td>75.699997</td>\n",
       "      <td>56.7</td>\n",
       "    </tr>\n",
       "    <tr>\n",
       "      <td>6</td>\n",
       "      <td>Argentina</td>\n",
       "      <td>10749.419238</td>\n",
       "      <td>9.35</td>\n",
       "      <td>.560987</td>\n",
       "      <td>73.9</td>\n",
       "      <td>5872119000</td>\n",
       "      <td>45.900002</td>\n",
       "      <td>.5</td>\n",
       "      <td>36.000335</td>\n",
       "      <td>75.901</td>\n",
       "      <td>.635943800978195</td>\n",
       "      <td>8.0</td>\n",
       "      <td>768.428300</td>\n",
       "      <td>7.765584</td>\n",
       "      <td>58.400002</td>\n",
       "      <td>92</td>\n",
       "    </tr>\n",
       "    <tr>\n",
       "      <td>7</td>\n",
       "      <td>Armenia</td>\n",
       "      <td>1326.741757</td>\n",
       "      <td>13.66</td>\n",
       "      <td>2.6184384</td>\n",
       "      <td>51.6</td>\n",
       "      <td>51219666.6666667</td>\n",
       "      <td>34.200001</td>\n",
       "      <td>.1</td>\n",
       "      <td>44.001025</td>\n",
       "      <td>74.241</td>\n",
       "      <td></td>\n",
       "      <td>5.0</td>\n",
       "      <td>603.763058</td>\n",
       "      <td>3.74158787727356</td>\n",
       "      <td>40.099998</td>\n",
       "      <td>63.86</td>\n",
       "    </tr>\n",
       "  </tbody>\n",
       "</table>\n",
       "</div>"
      ],
      "text/plain": [
       "     country  incomeperperson  alcconsumption armedforcesrate  \\\n",
       "1    Albania      1914.996551            7.29       1.0247361   \n",
       "2    Algeria      2231.993335            0.69        2.306817   \n",
       "4     Angola      1381.004268            5.57       1.4613288   \n",
       "6  Argentina     10749.419238            9.35         .560987   \n",
       "7    Armenia      1326.741757           13.66       2.6184384   \n",
       "\n",
       "  breastcancerper100th      co2emissions  femaleemployrate hivrate  \\\n",
       "1                 57.4  223747333.333333         42.099998           \n",
       "2                 23.5  2932108666.66667         31.700001      .1   \n",
       "4                 23.1         248358000         69.400002       2   \n",
       "6                 73.9        5872119000         45.900002      .5   \n",
       "7                 51.6  51219666.6666667         34.200001      .1   \n",
       "\n",
       "   internetuserate lifeexpectancy      oilperperson  polityscore  \\\n",
       "1        44.989947         76.918                            9.0   \n",
       "2        12.500073         73.131   .42009452521537          2.0   \n",
       "4         9.999954         51.093                           -2.0   \n",
       "6        36.000335         75.901  .635943800978195          8.0   \n",
       "7        44.001025         74.241                            5.0   \n",
       "\n",
       "   relectricperperson   suicideper100th  employrate urbanrate  \n",
       "1          636.341383  7.69932985305786   51.400002     46.72  \n",
       "2          590.509814   4.8487696647644   50.500000     65.22  \n",
       "4          172.999227  14.5546770095825   75.699997      56.7  \n",
       "6          768.428300          7.765584   58.400002        92  \n",
       "7          603.763058  3.74158787727356   40.099998     63.86  "
      ]
     },
     "execution_count": 5,
     "metadata": {},
     "output_type": "execute_result"
    }
   ],
   "source": [
    "df.head()"
   ]
  },
  {
   "cell_type": "code",
   "execution_count": 6,
   "metadata": {},
   "outputs": [
    {
     "data": {
      "text/html": [
       "<div>\n",
       "<style scoped>\n",
       "    .dataframe tbody tr th:only-of-type {\n",
       "        vertical-align: middle;\n",
       "    }\n",
       "\n",
       "    .dataframe tbody tr th {\n",
       "        vertical-align: top;\n",
       "    }\n",
       "\n",
       "    .dataframe thead th {\n",
       "        text-align: right;\n",
       "    }\n",
       "</style>\n",
       "<table border=\"1\" class=\"dataframe\">\n",
       "  <thead>\n",
       "    <tr style=\"text-align: right;\">\n",
       "      <th></th>\n",
       "      <th>incomeperperson</th>\n",
       "      <th>alcconsumption</th>\n",
       "      <th>femaleemployrate</th>\n",
       "      <th>internetuserate</th>\n",
       "      <th>polityscore</th>\n",
       "      <th>relectricperperson</th>\n",
       "      <th>employrate</th>\n",
       "    </tr>\n",
       "  </thead>\n",
       "  <tbody>\n",
       "    <tr>\n",
       "      <td>count</td>\n",
       "      <td>152.000000</td>\n",
       "      <td>152.000000</td>\n",
       "      <td>152.000000</td>\n",
       "      <td>150.000000</td>\n",
       "      <td>152.000000</td>\n",
       "      <td>123.000000</td>\n",
       "      <td>152.000000</td>\n",
       "    </tr>\n",
       "    <tr>\n",
       "      <td>mean</td>\n",
       "      <td>6706.556978</td>\n",
       "      <td>6.811184</td>\n",
       "      <td>48.068421</td>\n",
       "      <td>32.659142</td>\n",
       "      <td>3.861842</td>\n",
       "      <td>1109.577034</td>\n",
       "      <td>59.212500</td>\n",
       "    </tr>\n",
       "    <tr>\n",
       "      <td>std</td>\n",
       "      <td>9823.592315</td>\n",
       "      <td>5.104260</td>\n",
       "      <td>14.826857</td>\n",
       "      <td>27.688447</td>\n",
       "      <td>6.245581</td>\n",
       "      <td>1611.412875</td>\n",
       "      <td>10.363802</td>\n",
       "    </tr>\n",
       "    <tr>\n",
       "      <td>min</td>\n",
       "      <td>103.775857</td>\n",
       "      <td>0.050000</td>\n",
       "      <td>12.400000</td>\n",
       "      <td>0.210066</td>\n",
       "      <td>-10.000000</td>\n",
       "      <td>0.000000</td>\n",
       "      <td>34.900002</td>\n",
       "    </tr>\n",
       "    <tr>\n",
       "      <td>25%</td>\n",
       "      <td>560.797158</td>\n",
       "      <td>2.550000</td>\n",
       "      <td>39.549999</td>\n",
       "      <td>8.529589</td>\n",
       "      <td>-2.000000</td>\n",
       "      <td>211.078065</td>\n",
       "      <td>51.924999</td>\n",
       "    </tr>\n",
       "    <tr>\n",
       "      <td>50%</td>\n",
       "      <td>2225.931019</td>\n",
       "      <td>6.000000</td>\n",
       "      <td>48.549999</td>\n",
       "      <td>26.608624</td>\n",
       "      <td>7.000000</td>\n",
       "      <td>537.104738</td>\n",
       "      <td>58.900002</td>\n",
       "    </tr>\n",
       "    <tr>\n",
       "      <td>75%</td>\n",
       "      <td>6905.287662</td>\n",
       "      <td>10.012500</td>\n",
       "      <td>56.050000</td>\n",
       "      <td>51.755758</td>\n",
       "      <td>9.000000</td>\n",
       "      <td>1425.005472</td>\n",
       "      <td>65.000000</td>\n",
       "    </tr>\n",
       "    <tr>\n",
       "      <td>max</td>\n",
       "      <td>39972.352768</td>\n",
       "      <td>23.010000</td>\n",
       "      <td>83.300003</td>\n",
       "      <td>93.277508</td>\n",
       "      <td>10.000000</td>\n",
       "      <td>11154.755033</td>\n",
       "      <td>83.199997</td>\n",
       "    </tr>\n",
       "  </tbody>\n",
       "</table>\n",
       "</div>"
      ],
      "text/plain": [
       "       incomeperperson  alcconsumption  femaleemployrate  internetuserate  \\\n",
       "count       152.000000      152.000000        152.000000       150.000000   \n",
       "mean       6706.556978        6.811184         48.068421        32.659142   \n",
       "std        9823.592315        5.104260         14.826857        27.688447   \n",
       "min         103.775857        0.050000         12.400000         0.210066   \n",
       "25%         560.797158        2.550000         39.549999         8.529589   \n",
       "50%        2225.931019        6.000000         48.549999        26.608624   \n",
       "75%        6905.287662       10.012500         56.050000        51.755758   \n",
       "max       39972.352768       23.010000         83.300003        93.277508   \n",
       "\n",
       "       polityscore  relectricperperson  employrate  \n",
       "count   152.000000          123.000000  152.000000  \n",
       "mean      3.861842         1109.577034   59.212500  \n",
       "std       6.245581         1611.412875   10.363802  \n",
       "min     -10.000000            0.000000   34.900002  \n",
       "25%      -2.000000          211.078065   51.924999  \n",
       "50%       7.000000          537.104738   58.900002  \n",
       "75%       9.000000         1425.005472   65.000000  \n",
       "max      10.000000        11154.755033   83.199997  "
      ]
     },
     "execution_count": 6,
     "metadata": {},
     "output_type": "execute_result"
    }
   ],
   "source": [
    "df.describe()"
   ]
  },
  {
   "cell_type": "code",
   "execution_count": 7,
   "metadata": {},
   "outputs": [
    {
     "name": "stdout",
     "output_type": "stream",
     "text": [
      "<class 'pandas.core.frame.DataFrame'>\n",
      "Int64Index: 152 entries, 1 to 212\n",
      "Data columns (total 16 columns):\n",
      "country                 152 non-null object\n",
      "incomeperperson         152 non-null float64\n",
      "alcconsumption          152 non-null float64\n",
      "armedforcesrate         152 non-null object\n",
      "breastcancerper100th    152 non-null object\n",
      "co2emissions            152 non-null object\n",
      "femaleemployrate        152 non-null float64\n",
      "hivrate                 152 non-null object\n",
      "internetuserate         150 non-null float64\n",
      "lifeexpectancy          152 non-null object\n",
      "oilperperson            152 non-null object\n",
      "polityscore             152 non-null float64\n",
      "relectricperperson      123 non-null float64\n",
      "suicideper100th         152 non-null object\n",
      "employrate              152 non-null float64\n",
      "urbanrate               152 non-null object\n",
      "dtypes: float64(7), object(9)\n",
      "memory usage: 20.2+ KB\n"
     ]
    }
   ],
   "source": [
    "df.info()"
   ]
  },
  {
   "cell_type": "code",
   "execution_count": 8,
   "metadata": {},
   "outputs": [
    {
     "name": "stdout",
     "output_type": "stream",
     "text": [
      "152\n"
     ]
    }
   ],
   "source": [
    "print(len(df))"
   ]
  },
  {
   "cell_type": "code",
   "execution_count": 9,
   "metadata": {},
   "outputs": [
    {
     "name": "stdout",
     "output_type": "stream",
     "text": [
      "16\n"
     ]
    }
   ],
   "source": [
    "print(len(df.columns))"
   ]
  },
  {
   "cell_type": "markdown",
   "metadata": {},
   "source": [
    "# frequency counts & Anaysis as per assignment. "
   ]
  },
  {
   "cell_type": "markdown",
   "metadata": {},
   "source": [
    "### Since it would not make sense to do a frequency count on the gapminder data alone, we need to categorize our variables in order to count percentage and count amount from a range of data. I did this with the function pd.qcut( ) which distributes dividing my data from the lower to the highest in 10 portions. "
   ]
  },
  {
   "cell_type": "markdown",
   "metadata": {},
   "source": [
    "#### Income per person "
   ]
  },
  {
   "cell_type": "code",
   "execution_count": 10,
   "metadata": {},
   "outputs": [],
   "source": [
    "icplabels = ['Extremely Poor','Very Poor', 'Middle Poor', 'Poor', 'Middle', 'middle rich', 'Rich', \n",
    "             'Very Rich', 'Extremely Rich','Richest']\n",
    "df['income_class'] = pd.qcut(df['incomeperperson'],\n",
    "                              q=[0, .1, .2, .3, .4, .5, .6, .7, .8, .9, 1],\n",
    "                              labels=icplabels)"
   ]
  },
  {
   "cell_type": "code",
   "execution_count": 11,
   "metadata": {},
   "outputs": [
    {
     "name": "stdout",
     "output_type": "stream",
     "text": [
      "counts for income per person on each income class\n",
      "Extremely Poor    16\n",
      "Very Poor         15\n",
      "Middle Poor       15\n",
      "Poor              15\n",
      "Middle            15\n",
      "middle rich       15\n",
      "Rich              15\n",
      "Very Rich         15\n",
      "Extremely Rich    15\n",
      "Richest           16\n",
      "Name: income_class, dtype: int64\n"
     ]
    }
   ],
   "source": [
    "print(\"counts for income per person on each income class\")\n",
    "c1 = df[\"income_class\"].value_counts(sort = False) # For counts\n",
    "print(c1)\n",
    "\n"
   ]
  },
  {
   "cell_type": "code",
   "execution_count": 12,
   "metadata": {},
   "outputs": [
    {
     "name": "stdout",
     "output_type": "stream",
     "text": [
      "2010 percentage for income per person class\n",
      "Extremely Poor    10.526316\n",
      "Very Poor          9.868421\n",
      "Middle Poor        9.868421\n",
      "Poor               9.868421\n",
      "Middle             9.868421\n",
      "middle rich        9.868421\n",
      "Rich               9.868421\n",
      "Very Rich          9.868421\n",
      "Extremely Rich     9.868421\n",
      "Richest           10.526316\n",
      "Name: income_class, dtype: float64\n"
     ]
    }
   ],
   "source": [
    "print(\"2010 percentage for income per person class\")\n",
    "p1 = df[\"income_class\"].value_counts(sort = False, normalize = True) # for percentages \n",
    "print(p1 * 100)"
   ]
  },
  {
   "cell_type": "markdown",
   "metadata": {},
   "source": [
    "#### We can see the data distributed in 10 equal bins, now if we want to see who are the richest or poorer countries we can subset again and show as below, we use sort_values( ) to sort in ascending order. "
   ]
  },
  {
   "cell_type": "code",
   "execution_count": 13,
   "metadata": {},
   "outputs": [
    {
     "name": "stdout",
     "output_type": "stream",
     "text": [
      "2010 Richest Countries in Gross Domestic Product per capita in constant 2000 US$.\n"
     ]
    },
    {
     "data": {
      "text/html": [
       "<div>\n",
       "<style scoped>\n",
       "    .dataframe tbody tr th:only-of-type {\n",
       "        vertical-align: middle;\n",
       "    }\n",
       "\n",
       "    .dataframe tbody tr th {\n",
       "        vertical-align: top;\n",
       "    }\n",
       "\n",
       "    .dataframe thead th {\n",
       "        text-align: right;\n",
       "    }\n",
       "</style>\n",
       "<table border=\"1\" class=\"dataframe\">\n",
       "  <thead>\n",
       "    <tr style=\"text-align: right;\">\n",
       "      <th></th>\n",
       "      <th>country</th>\n",
       "      <th>incomeperperson</th>\n",
       "    </tr>\n",
       "  </thead>\n",
       "  <tbody>\n",
       "    <tr>\n",
       "      <td>9</td>\n",
       "      <td>Australia</td>\n",
       "      <td>25249.986061</td>\n",
       "    </tr>\n",
       "    <tr>\n",
       "      <td>69</td>\n",
       "      <td>Germany</td>\n",
       "      <td>25306.187193</td>\n",
       "    </tr>\n",
       "    <tr>\n",
       "      <td>32</td>\n",
       "      <td>Canada</td>\n",
       "      <td>25575.352623</td>\n",
       "    </tr>\n",
       "    <tr>\n",
       "      <td>136</td>\n",
       "      <td>Netherlands</td>\n",
       "      <td>26551.844238</td>\n",
       "    </tr>\n",
       "    <tr>\n",
       "      <td>10</td>\n",
       "      <td>Austria</td>\n",
       "      <td>26692.984107</td>\n",
       "    </tr>\n",
       "    <tr>\n",
       "      <td>63</td>\n",
       "      <td>Finland</td>\n",
       "      <td>27110.731591</td>\n",
       "    </tr>\n",
       "    <tr>\n",
       "      <td>90</td>\n",
       "      <td>Ireland</td>\n",
       "      <td>27595.091347</td>\n",
       "    </tr>\n",
       "    <tr>\n",
       "      <td>202</td>\n",
       "      <td>United Kingdom</td>\n",
       "      <td>28033.489283</td>\n",
       "    </tr>\n",
       "    <tr>\n",
       "      <td>50</td>\n",
       "      <td>Denmark</td>\n",
       "      <td>30532.277044</td>\n",
       "    </tr>\n",
       "    <tr>\n",
       "      <td>184</td>\n",
       "      <td>Sweden</td>\n",
       "      <td>32292.482984</td>\n",
       "    </tr>\n",
       "    <tr>\n",
       "      <td>173</td>\n",
       "      <td>Singapore</td>\n",
       "      <td>32535.832512</td>\n",
       "    </tr>\n",
       "    <tr>\n",
       "      <td>156</td>\n",
       "      <td>Qatar</td>\n",
       "      <td>33931.832079</td>\n",
       "    </tr>\n",
       "    <tr>\n",
       "      <td>203</td>\n",
       "      <td>United States</td>\n",
       "      <td>37491.179523</td>\n",
       "    </tr>\n",
       "    <tr>\n",
       "      <td>185</td>\n",
       "      <td>Switzerland</td>\n",
       "      <td>37662.751250</td>\n",
       "    </tr>\n",
       "    <tr>\n",
       "      <td>94</td>\n",
       "      <td>Japan</td>\n",
       "      <td>39309.478859</td>\n",
       "    </tr>\n",
       "    <tr>\n",
       "      <td>144</td>\n",
       "      <td>Norway</td>\n",
       "      <td>39972.352768</td>\n",
       "    </tr>\n",
       "  </tbody>\n",
       "</table>\n",
       "</div>"
      ],
      "text/plain": [
       "            country  incomeperperson\n",
       "9         Australia     25249.986061\n",
       "69          Germany     25306.187193\n",
       "32           Canada     25575.352623\n",
       "136     Netherlands     26551.844238\n",
       "10          Austria     26692.984107\n",
       "63          Finland     27110.731591\n",
       "90          Ireland     27595.091347\n",
       "202  United Kingdom     28033.489283\n",
       "50          Denmark     30532.277044\n",
       "184          Sweden     32292.482984\n",
       "173       Singapore     32535.832512\n",
       "156           Qatar     33931.832079\n",
       "203   United States     37491.179523\n",
       "185     Switzerland     37662.751250\n",
       "94            Japan     39309.478859\n",
       "144          Norway     39972.352768"
      ]
     },
     "execution_count": 13,
     "metadata": {},
     "output_type": "execute_result"
    }
   ],
   "source": [
    "print('2010 Richest Countries in Gross Domestic Product per capita in constant 2000 US$.')\n",
    "Richest_C = df.loc[df.income_class == 'Richest',['country','incomeperperson']]\n",
    "Richest_C.sort_values(by=['incomeperperson'])"
   ]
  },
  {
   "cell_type": "code",
   "execution_count": 14,
   "metadata": {},
   "outputs": [
    {
     "name": "stdout",
     "output_type": "stream",
     "text": [
      "2010 Extremely Poor Countries in Gross Domestic Product per capita in constant 2000 US$.\n"
     ]
    },
    {
     "data": {
      "text/html": [
       "<div>\n",
       "<style scoped>\n",
       "    .dataframe tbody tr th:only-of-type {\n",
       "        vertical-align: middle;\n",
       "    }\n",
       "\n",
       "    .dataframe tbody tr th {\n",
       "        vertical-align: top;\n",
       "    }\n",
       "\n",
       "    .dataframe thead th {\n",
       "        text-align: right;\n",
       "    }\n",
       "</style>\n",
       "<table border=\"1\" class=\"dataframe\">\n",
       "  <thead>\n",
       "    <tr style=\"text-align: right;\">\n",
       "      <th></th>\n",
       "      <th>country</th>\n",
       "      <th>incomeperperson</th>\n",
       "    </tr>\n",
       "  </thead>\n",
       "  <tbody>\n",
       "    <tr>\n",
       "      <td>41</td>\n",
       "      <td>Congo, Dem. Rep.</td>\n",
       "      <td>103.775857</td>\n",
       "    </tr>\n",
       "    <tr>\n",
       "      <td>29</td>\n",
       "      <td>Burundi</td>\n",
       "      <td>115.305996</td>\n",
       "    </tr>\n",
       "    <tr>\n",
       "      <td>58</td>\n",
       "      <td>Eritrea</td>\n",
       "      <td>131.796207</td>\n",
       "    </tr>\n",
       "    <tr>\n",
       "      <td>107</td>\n",
       "      <td>Liberia</td>\n",
       "      <td>155.033231</td>\n",
       "    </tr>\n",
       "    <tr>\n",
       "      <td>79</td>\n",
       "      <td>Guinea-Bissau</td>\n",
       "      <td>161.317137</td>\n",
       "    </tr>\n",
       "    <tr>\n",
       "      <td>141</td>\n",
       "      <td>Niger</td>\n",
       "      <td>180.083376</td>\n",
       "    </tr>\n",
       "    <tr>\n",
       "      <td>115</td>\n",
       "      <td>Malawi</td>\n",
       "      <td>184.141797</td>\n",
       "    </tr>\n",
       "    <tr>\n",
       "      <td>60</td>\n",
       "      <td>Ethiopia</td>\n",
       "      <td>220.891248</td>\n",
       "    </tr>\n",
       "    <tr>\n",
       "      <td>35</td>\n",
       "      <td>Central African Rep.</td>\n",
       "      <td>239.518749</td>\n",
       "    </tr>\n",
       "    <tr>\n",
       "      <td>114</td>\n",
       "      <td>Madagascar</td>\n",
       "      <td>242.677534</td>\n",
       "    </tr>\n",
       "    <tr>\n",
       "      <td>135</td>\n",
       "      <td>Nepal</td>\n",
       "      <td>268.259450</td>\n",
       "    </tr>\n",
       "    <tr>\n",
       "      <td>172</td>\n",
       "      <td>Sierra Leone</td>\n",
       "      <td>268.331790</td>\n",
       "    </tr>\n",
       "    <tr>\n",
       "      <td>118</td>\n",
       "      <td>Mali</td>\n",
       "      <td>269.892881</td>\n",
       "    </tr>\n",
       "    <tr>\n",
       "      <td>36</td>\n",
       "      <td>Chad</td>\n",
       "      <td>275.884287</td>\n",
       "    </tr>\n",
       "    <tr>\n",
       "      <td>28</td>\n",
       "      <td>Burkina Faso</td>\n",
       "      <td>276.200413</td>\n",
       "    </tr>\n",
       "    <tr>\n",
       "      <td>188</td>\n",
       "      <td>Tajikistan</td>\n",
       "      <td>279.180453</td>\n",
       "    </tr>\n",
       "  </tbody>\n",
       "</table>\n",
       "</div>"
      ],
      "text/plain": [
       "                  country  incomeperperson\n",
       "41       Congo, Dem. Rep.       103.775857\n",
       "29                Burundi       115.305996\n",
       "58                Eritrea       131.796207\n",
       "107               Liberia       155.033231\n",
       "79          Guinea-Bissau       161.317137\n",
       "141                 Niger       180.083376\n",
       "115                Malawi       184.141797\n",
       "60               Ethiopia       220.891248\n",
       "35   Central African Rep.       239.518749\n",
       "114            Madagascar       242.677534\n",
       "135                 Nepal       268.259450\n",
       "172          Sierra Leone       268.331790\n",
       "118                  Mali       269.892881\n",
       "36                   Chad       275.884287\n",
       "28           Burkina Faso       276.200413\n",
       "188            Tajikistan       279.180453"
      ]
     },
     "execution_count": 14,
     "metadata": {},
     "output_type": "execute_result"
    }
   ],
   "source": [
    "print('2010 Extremely Poor Countries in Gross Domestic Product per capita in constant 2000 US$.')\n",
    "Poorer_C = df.loc[df.income_class == 'Extremely Poor',['country','incomeperperson']]\n",
    "Poorer_C.sort_values(by=['incomeperperson'])"
   ]
  },
  {
   "cell_type": "markdown",
   "metadata": {},
   "source": [
    "#### Exployment rate "
   ]
  },
  {
   "cell_type": "code",
   "execution_count": 15,
   "metadata": {
    "scrolled": true
   },
   "outputs": [
    {
     "name": "stdout",
     "output_type": "stream",
     "text": [
      "2007 counts for Employment Rate class \n",
      "Extremely Unemployed    16\n",
      "Very Unemployed         16\n",
      "Middle Unemployed       14\n",
      "Unemployed              15\n",
      "Middle                  17\n",
      "middle Employed         13\n",
      "High Employed           15\n",
      "Very High Employed      15\n",
      "Extremely Employed      15\n",
      "Most Employed           16\n",
      "Name: employment_class, dtype: int64\n"
     ]
    }
   ],
   "source": [
    "eprlabels = ['Extremely Unemployed','Very Unemployed', 'Middle Unemployed', 'Unemployed', 'Middle', 'middle Employed', 'High Employed', \n",
    "             'Very High Employed', 'Extremely Employed','Most Employed']\n",
    "df['employment_class'] = pd.qcut(df['employrate'],\n",
    "                              q=[0, .1, .2, .3, .4, .5, .6, .7, .8, .9, 1],\n",
    "                              labels=eprlabels)\n",
    "\n",
    "print(\"2007 counts for Employment Rate class \")\n",
    "c2 = df[\"employment_class\"].value_counts(sort = False) # For counts\n",
    "print(c2)\n",
    "\n"
   ]
  },
  {
   "cell_type": "code",
   "execution_count": 16,
   "metadata": {},
   "outputs": [
    {
     "name": "stdout",
     "output_type": "stream",
     "text": [
      "2007 percentage for Employment Rate\n",
      "Extremely Unemployed    10.526316\n",
      "Very Unemployed         10.526316\n",
      "Middle Unemployed        9.210526\n",
      "Unemployed               9.868421\n",
      "Middle                  11.184211\n",
      "middle Employed          8.552632\n",
      "High Employed            9.868421\n",
      "Very High Employed       9.868421\n",
      "Extremely Employed       9.868421\n",
      "Most Employed           10.526316\n",
      "Name: employment_class, dtype: float64\n"
     ]
    }
   ],
   "source": [
    "print(\"2007 percentage for Employment Rate\")\n",
    "p2 = df[\"employment_class\"].value_counts(sort = False, normalize = True) # for percentages \n",
    "print(p2 * 100 )"
   ]
  },
  {
   "cell_type": "code",
   "execution_count": 17,
   "metadata": {},
   "outputs": [
    {
     "name": "stdout",
     "output_type": "stream",
     "text": [
      "2007 Most employed countries employees age 15+ (% of population)\n"
     ]
    },
    {
     "data": {
      "text/html": [
       "<div>\n",
       "<style scoped>\n",
       "    .dataframe tbody tr th:only-of-type {\n",
       "        vertical-align: middle;\n",
       "    }\n",
       "\n",
       "    .dataframe tbody tr th {\n",
       "        vertical-align: top;\n",
       "    }\n",
       "\n",
       "    .dataframe thead th {\n",
       "        text-align: right;\n",
       "    }\n",
       "</style>\n",
       "<table border=\"1\" class=\"dataframe\">\n",
       "  <thead>\n",
       "    <tr style=\"text-align: right;\">\n",
       "      <th></th>\n",
       "      <th>country</th>\n",
       "      <th>employrate</th>\n",
       "    </tr>\n",
       "  </thead>\n",
       "  <tbody>\n",
       "    <tr>\n",
       "      <td>150</td>\n",
       "      <td>Paraguay</td>\n",
       "      <td>73.099998</td>\n",
       "    </tr>\n",
       "    <tr>\n",
       "      <td>97</td>\n",
       "      <td>Kenya</td>\n",
       "      <td>73.199997</td>\n",
       "    </tr>\n",
       "    <tr>\n",
       "      <td>201</td>\n",
       "      <td>United Arab Emirates</td>\n",
       "      <td>75.199997</td>\n",
       "    </tr>\n",
       "    <tr>\n",
       "      <td>4</td>\n",
       "      <td>Angola</td>\n",
       "      <td>75.699997</td>\n",
       "    </tr>\n",
       "    <tr>\n",
       "      <td>156</td>\n",
       "      <td>Qatar</td>\n",
       "      <td>76.000000</td>\n",
       "    </tr>\n",
       "    <tr>\n",
       "      <td>131</td>\n",
       "      <td>Mozambique</td>\n",
       "      <td>77.000000</td>\n",
       "    </tr>\n",
       "    <tr>\n",
       "      <td>103</td>\n",
       "      <td>Laos</td>\n",
       "      <td>78.199997</td>\n",
       "    </tr>\n",
       "    <tr>\n",
       "      <td>189</td>\n",
       "      <td>Tanzania</td>\n",
       "      <td>78.199997</td>\n",
       "    </tr>\n",
       "    <tr>\n",
       "      <td>30</td>\n",
       "      <td>Cambodia</td>\n",
       "      <td>78.900002</td>\n",
       "    </tr>\n",
       "    <tr>\n",
       "      <td>160</td>\n",
       "      <td>Rwanda</td>\n",
       "      <td>79.800003</td>\n",
       "    </tr>\n",
       "    <tr>\n",
       "      <td>60</td>\n",
       "      <td>Ethiopia</td>\n",
       "      <td>80.699997</td>\n",
       "    </tr>\n",
       "    <tr>\n",
       "      <td>28</td>\n",
       "      <td>Burkina Faso</td>\n",
       "      <td>81.300003</td>\n",
       "    </tr>\n",
       "    <tr>\n",
       "      <td>78</td>\n",
       "      <td>Guinea</td>\n",
       "      <td>81.500000</td>\n",
       "    </tr>\n",
       "    <tr>\n",
       "      <td>114</td>\n",
       "      <td>Madagascar</td>\n",
       "      <td>83.000000</td>\n",
       "    </tr>\n",
       "    <tr>\n",
       "      <td>29</td>\n",
       "      <td>Burundi</td>\n",
       "      <td>83.199997</td>\n",
       "    </tr>\n",
       "    <tr>\n",
       "      <td>199</td>\n",
       "      <td>Uganda</td>\n",
       "      <td>83.199997</td>\n",
       "    </tr>\n",
       "  </tbody>\n",
       "</table>\n",
       "</div>"
      ],
      "text/plain": [
       "                  country  employrate\n",
       "150              Paraguay   73.099998\n",
       "97                  Kenya   73.199997\n",
       "201  United Arab Emirates   75.199997\n",
       "4                  Angola   75.699997\n",
       "156                 Qatar   76.000000\n",
       "131            Mozambique   77.000000\n",
       "103                  Laos   78.199997\n",
       "189              Tanzania   78.199997\n",
       "30               Cambodia   78.900002\n",
       "160                Rwanda   79.800003\n",
       "60               Ethiopia   80.699997\n",
       "28           Burkina Faso   81.300003\n",
       "78                 Guinea   81.500000\n",
       "114            Madagascar   83.000000\n",
       "29                Burundi   83.199997\n",
       "199                Uganda   83.199997"
      ]
     },
     "execution_count": 17,
     "metadata": {},
     "output_type": "execute_result"
    }
   ],
   "source": [
    "print('2007 Most employed countries employees age 15+ (% of population)')\n",
    "Most_Employed = df.loc[df.employment_class == 'Most Employed',['country','employrate']]\n",
    "Most_Employed.sort_values(by=['employrate'])"
   ]
  },
  {
   "cell_type": "code",
   "execution_count": 18,
   "metadata": {},
   "outputs": [
    {
     "name": "stdout",
     "output_type": "stream",
     "text": [
      "2007 Least employed countries employees age 15+ (% of population)\n"
     ]
    },
    {
     "data": {
      "text/html": [
       "<div>\n",
       "<style scoped>\n",
       "    .dataframe tbody tr th:only-of-type {\n",
       "        vertical-align: middle;\n",
       "    }\n",
       "\n",
       "    .dataframe tbody tr th {\n",
       "        vertical-align: top;\n",
       "    }\n",
       "\n",
       "    .dataframe thead th {\n",
       "        text-align: right;\n",
       "    }\n",
       "</style>\n",
       "<table border=\"1\" class=\"dataframe\">\n",
       "  <thead>\n",
       "    <tr style=\"text-align: right;\">\n",
       "      <th></th>\n",
       "      <th>country</th>\n",
       "      <th>employrate</th>\n",
       "    </tr>\n",
       "  </thead>\n",
       "  <tbody>\n",
       "    <tr>\n",
       "      <td>113</td>\n",
       "      <td>Macedonia, FYR</td>\n",
       "      <td>34.900002</td>\n",
       "    </tr>\n",
       "    <tr>\n",
       "      <td>89</td>\n",
       "      <td>Iraq</td>\n",
       "      <td>37.400002</td>\n",
       "    </tr>\n",
       "    <tr>\n",
       "      <td>95</td>\n",
       "      <td>Jordan</td>\n",
       "      <td>38.900002</td>\n",
       "    </tr>\n",
       "    <tr>\n",
       "      <td>210</td>\n",
       "      <td>Yemen, Rep.</td>\n",
       "      <td>39.000000</td>\n",
       "    </tr>\n",
       "    <tr>\n",
       "      <td>7</td>\n",
       "      <td>Armenia</td>\n",
       "      <td>40.099998</td>\n",
       "    </tr>\n",
       "    <tr>\n",
       "      <td>178</td>\n",
       "      <td>South Africa</td>\n",
       "      <td>41.099998</td>\n",
       "    </tr>\n",
       "    <tr>\n",
       "      <td>195</td>\n",
       "      <td>Tunisia</td>\n",
       "      <td>41.599998</td>\n",
       "    </tr>\n",
       "    <tr>\n",
       "      <td>133</td>\n",
       "      <td>Namibia</td>\n",
       "      <td>42.000000</td>\n",
       "    </tr>\n",
       "    <tr>\n",
       "      <td>55</td>\n",
       "      <td>Egypt</td>\n",
       "      <td>42.400002</td>\n",
       "    </tr>\n",
       "    <tr>\n",
       "      <td>196</td>\n",
       "      <td>Turkey</td>\n",
       "      <td>42.799999</td>\n",
       "    </tr>\n",
       "    <tr>\n",
       "      <td>126</td>\n",
       "      <td>Moldova</td>\n",
       "      <td>44.299999</td>\n",
       "    </tr>\n",
       "    <tr>\n",
       "      <td>186</td>\n",
       "      <td>Syria</td>\n",
       "      <td>44.799999</td>\n",
       "    </tr>\n",
       "    <tr>\n",
       "      <td>118</td>\n",
       "      <td>Mali</td>\n",
       "      <td>45.700001</td>\n",
       "    </tr>\n",
       "    <tr>\n",
       "      <td>24</td>\n",
       "      <td>Botswana</td>\n",
       "      <td>46.000000</td>\n",
       "    </tr>\n",
       "    <tr>\n",
       "      <td>105</td>\n",
       "      <td>Lebanon</td>\n",
       "      <td>46.000000</td>\n",
       "    </tr>\n",
       "    <tr>\n",
       "      <td>130</td>\n",
       "      <td>Morocco</td>\n",
       "      <td>46.200001</td>\n",
       "    </tr>\n",
       "  </tbody>\n",
       "</table>\n",
       "</div>"
      ],
      "text/plain": [
       "            country  employrate\n",
       "113  Macedonia, FYR   34.900002\n",
       "89             Iraq   37.400002\n",
       "95           Jordan   38.900002\n",
       "210     Yemen, Rep.   39.000000\n",
       "7           Armenia   40.099998\n",
       "178    South Africa   41.099998\n",
       "195         Tunisia   41.599998\n",
       "133         Namibia   42.000000\n",
       "55            Egypt   42.400002\n",
       "196          Turkey   42.799999\n",
       "126         Moldova   44.299999\n",
       "186           Syria   44.799999\n",
       "118            Mali   45.700001\n",
       "24         Botswana   46.000000\n",
       "105         Lebanon   46.000000\n",
       "130         Morocco   46.200001"
      ]
     },
     "execution_count": 18,
     "metadata": {},
     "output_type": "execute_result"
    }
   ],
   "source": [
    "print('2007 Least employed countries employees age 15+ (% of population)')\n",
    "Least_Employed = df.loc[df.employment_class == 'Extremely Unemployed',['country','employrate']]\n",
    "Least_Employed.sort_values(by=['employrate'])"
   ]
  },
  {
   "cell_type": "markdown",
   "metadata": {},
   "source": [
    "#### Female employment rate"
   ]
  },
  {
   "cell_type": "code",
   "execution_count": 19,
   "metadata": {},
   "outputs": [
    {
     "name": "stdout",
     "output_type": "stream",
     "text": [
      "2007 counts for Female Employment Rate Rate\n",
      "Extremely Low Females Employed     16\n",
      "Very Low Females Employed          16\n",
      "low females Employed               15\n",
      "Midle low females Employed         14\n",
      "Middle Females Employed            15\n",
      "Middle High Females Employed       15\n",
      "High Females Employed              15\n",
      "Very High females Employed         16\n",
      "Extremely High Females Employed    14\n",
      "Most Employed Females              16\n",
      "Name: Female_employment_class, dtype: int64\n"
     ]
    }
   ],
   "source": [
    "\n",
    "\n",
    "feprlabels = ['Extremely Low Females Employed','Very Low Females Employed', 'low females Employed',\n",
    "              'Midle low females Employed', 'Middle Females Employed ', 'Middle High Females Employed', \n",
    "              'High Females Employed', 'Very High females Employed', 'Extremely High Females Employed',\n",
    "              'Most Employed Females']\n",
    "\n",
    "df['Female_employment_class'] = pd.qcut(df['femaleemployrate'],\n",
    "                              q=[0, .1, .2, .3, .4, .5, .6, .7, .8, .9, 1],\n",
    "                              labels=feprlabels)\n",
    "\n",
    "print(\"2007 counts for Female Employment Rate Rate\")\n",
    "c3 = df[\"Female_employment_class\"].value_counts(sort = False) # For counts\n",
    "print(c3)"
   ]
  },
  {
   "cell_type": "code",
   "execution_count": 20,
   "metadata": {},
   "outputs": [
    {
     "name": "stdout",
     "output_type": "stream",
     "text": [
      "2007 percentage for Female Employment Rate\n",
      "Extremely Low Females Employed     10.526316\n",
      "Very Low Females Employed          10.526316\n",
      "low females Employed                9.868421\n",
      "Midle low females Employed          9.210526\n",
      "Middle Females Employed             9.868421\n",
      "Middle High Females Employed        9.868421\n",
      "High Females Employed               9.868421\n",
      "Very High females Employed         10.526316\n",
      "Extremely High Females Employed     9.210526\n",
      "Most Employed Females              10.526316\n",
      "Name: Female_employment_class, dtype: float64\n"
     ]
    }
   ],
   "source": [
    "print(\"2007 percentage for Female Employment Rate\")\n",
    "p3 = df[\"Female_employment_class\"].value_counts(sort = False, normalize = True) # For percentages\n",
    "print(p3 * 100)"
   ]
  },
  {
   "cell_type": "code",
   "execution_count": 21,
   "metadata": {},
   "outputs": [
    {
     "name": "stdout",
     "output_type": "stream",
     "text": [
      "2007 Most Female employed countries female employees age 15+ (% of population)\n"
     ]
    },
    {
     "data": {
      "text/html": [
       "<div>\n",
       "<style scoped>\n",
       "    .dataframe tbody tr th:only-of-type {\n",
       "        vertical-align: middle;\n",
       "    }\n",
       "\n",
       "    .dataframe tbody tr th {\n",
       "        vertical-align: top;\n",
       "    }\n",
       "\n",
       "    .dataframe thead th {\n",
       "        text-align: right;\n",
       "    }\n",
       "</style>\n",
       "<table border=\"1\" class=\"dataframe\">\n",
       "  <thead>\n",
       "    <tr style=\"text-align: right;\">\n",
       "      <th></th>\n",
       "      <th>country</th>\n",
       "      <th>femaleemployrate</th>\n",
       "    </tr>\n",
       "  </thead>\n",
       "  <tbody>\n",
       "    <tr>\n",
       "      <td>208</td>\n",
       "      <td>Vietnam</td>\n",
       "      <td>67.599998</td>\n",
       "    </tr>\n",
       "    <tr>\n",
       "      <td>38</td>\n",
       "      <td>China</td>\n",
       "      <td>68.900002</td>\n",
       "    </tr>\n",
       "    <tr>\n",
       "      <td>149</td>\n",
       "      <td>Papua New Guinea</td>\n",
       "      <td>68.900002</td>\n",
       "    </tr>\n",
       "    <tr>\n",
       "      <td>115</td>\n",
       "      <td>Malawi</td>\n",
       "      <td>69.000000</td>\n",
       "    </tr>\n",
       "    <tr>\n",
       "      <td>4</td>\n",
       "      <td>Angola</td>\n",
       "      <td>69.400002</td>\n",
       "    </tr>\n",
       "    <tr>\n",
       "      <td>60</td>\n",
       "      <td>Ethiopia</td>\n",
       "      <td>73.000000</td>\n",
       "    </tr>\n",
       "    <tr>\n",
       "      <td>30</td>\n",
       "      <td>Cambodia</td>\n",
       "      <td>73.400002</td>\n",
       "    </tr>\n",
       "    <tr>\n",
       "      <td>28</td>\n",
       "      <td>Burkina Faso</td>\n",
       "      <td>75.800003</td>\n",
       "    </tr>\n",
       "    <tr>\n",
       "      <td>189</td>\n",
       "      <td>Tanzania</td>\n",
       "      <td>76.099998</td>\n",
       "    </tr>\n",
       "    <tr>\n",
       "      <td>78</td>\n",
       "      <td>Guinea</td>\n",
       "      <td>77.599998</td>\n",
       "    </tr>\n",
       "    <tr>\n",
       "      <td>103</td>\n",
       "      <td>Laos</td>\n",
       "      <td>78.099998</td>\n",
       "    </tr>\n",
       "    <tr>\n",
       "      <td>114</td>\n",
       "      <td>Madagascar</td>\n",
       "      <td>79.199997</td>\n",
       "    </tr>\n",
       "    <tr>\n",
       "      <td>199</td>\n",
       "      <td>Uganda</td>\n",
       "      <td>80.000000</td>\n",
       "    </tr>\n",
       "    <tr>\n",
       "      <td>160</td>\n",
       "      <td>Rwanda</td>\n",
       "      <td>80.500000</td>\n",
       "    </tr>\n",
       "    <tr>\n",
       "      <td>131</td>\n",
       "      <td>Mozambique</td>\n",
       "      <td>82.199997</td>\n",
       "    </tr>\n",
       "    <tr>\n",
       "      <td>29</td>\n",
       "      <td>Burundi</td>\n",
       "      <td>83.300003</td>\n",
       "    </tr>\n",
       "  </tbody>\n",
       "</table>\n",
       "</div>"
      ],
      "text/plain": [
       "              country  femaleemployrate\n",
       "208           Vietnam         67.599998\n",
       "38              China         68.900002\n",
       "149  Papua New Guinea         68.900002\n",
       "115            Malawi         69.000000\n",
       "4              Angola         69.400002\n",
       "60           Ethiopia         73.000000\n",
       "30           Cambodia         73.400002\n",
       "28       Burkina Faso         75.800003\n",
       "189          Tanzania         76.099998\n",
       "78             Guinea         77.599998\n",
       "103              Laos         78.099998\n",
       "114        Madagascar         79.199997\n",
       "199            Uganda         80.000000\n",
       "160            Rwanda         80.500000\n",
       "131        Mozambique         82.199997\n",
       "29            Burundi         83.300003"
      ]
     },
     "execution_count": 21,
     "metadata": {},
     "output_type": "execute_result"
    }
   ],
   "source": [
    "print('2007 Most Female employed countries female employees age 15+ (% of population)')\n",
    "Most_Employed_Females = df.loc[df.Female_employment_class == 'Most Employed Females',['country','femaleemployrate']]\n",
    "Most_Employed_Females.sort_values(by=['femaleemployrate'])\n",
    "\n"
   ]
  },
  {
   "cell_type": "code",
   "execution_count": 22,
   "metadata": {},
   "outputs": [
    {
     "name": "stdout",
     "output_type": "stream",
     "text": [
      "2007 Least Female employed countries female employees age 15+ (% of population)\n"
     ]
    },
    {
     "data": {
      "text/html": [
       "<div>\n",
       "<style scoped>\n",
       "    .dataframe tbody tr th:only-of-type {\n",
       "        vertical-align: middle;\n",
       "    }\n",
       "\n",
       "    .dataframe tbody tr th {\n",
       "        vertical-align: top;\n",
       "    }\n",
       "\n",
       "    .dataframe thead th {\n",
       "        text-align: right;\n",
       "    }\n",
       "</style>\n",
       "<table border=\"1\" class=\"dataframe\">\n",
       "  <thead>\n",
       "    <tr style=\"text-align: right;\">\n",
       "      <th></th>\n",
       "      <th>country</th>\n",
       "      <th>femaleemployrate</th>\n",
       "    </tr>\n",
       "  </thead>\n",
       "  <tbody>\n",
       "    <tr>\n",
       "      <td>89</td>\n",
       "      <td>Iraq</td>\n",
       "      <td>12.400000</td>\n",
       "    </tr>\n",
       "    <tr>\n",
       "      <td>95</td>\n",
       "      <td>Jordan</td>\n",
       "      <td>13.000000</td>\n",
       "    </tr>\n",
       "    <tr>\n",
       "      <td>186</td>\n",
       "      <td>Syria</td>\n",
       "      <td>16.700001</td>\n",
       "    </tr>\n",
       "    <tr>\n",
       "      <td>167</td>\n",
       "      <td>Saudi Arabia</td>\n",
       "      <td>17.700001</td>\n",
       "    </tr>\n",
       "    <tr>\n",
       "      <td>55</td>\n",
       "      <td>Egypt</td>\n",
       "      <td>18.200001</td>\n",
       "    </tr>\n",
       "    <tr>\n",
       "      <td>146</td>\n",
       "      <td>Pakistan</td>\n",
       "      <td>19.000000</td>\n",
       "    </tr>\n",
       "    <tr>\n",
       "      <td>210</td>\n",
       "      <td>Yemen, Rep.</td>\n",
       "      <td>20.299999</td>\n",
       "    </tr>\n",
       "    <tr>\n",
       "      <td>195</td>\n",
       "      <td>Tunisia</td>\n",
       "      <td>21.400000</td>\n",
       "    </tr>\n",
       "    <tr>\n",
       "      <td>196</td>\n",
       "      <td>Turkey</td>\n",
       "      <td>21.900000</td>\n",
       "    </tr>\n",
       "    <tr>\n",
       "      <td>130</td>\n",
       "      <td>Morocco</td>\n",
       "      <td>22.200001</td>\n",
       "    </tr>\n",
       "    <tr>\n",
       "      <td>105</td>\n",
       "      <td>Lebanon</td>\n",
       "      <td>22.299999</td>\n",
       "    </tr>\n",
       "    <tr>\n",
       "      <td>145</td>\n",
       "      <td>Oman</td>\n",
       "      <td>22.600000</td>\n",
       "    </tr>\n",
       "    <tr>\n",
       "      <td>108</td>\n",
       "      <td>Libya</td>\n",
       "      <td>23.200001</td>\n",
       "    </tr>\n",
       "    <tr>\n",
       "      <td>113</td>\n",
       "      <td>Macedonia, FYR</td>\n",
       "      <td>26.799999</td>\n",
       "    </tr>\n",
       "    <tr>\n",
       "      <td>88</td>\n",
       "      <td>Iran</td>\n",
       "      <td>26.900000</td>\n",
       "    </tr>\n",
       "    <tr>\n",
       "      <td>181</td>\n",
       "      <td>Sudan</td>\n",
       "      <td>27.900000</td>\n",
       "    </tr>\n",
       "  </tbody>\n",
       "</table>\n",
       "</div>"
      ],
      "text/plain": [
       "            country  femaleemployrate\n",
       "89             Iraq         12.400000\n",
       "95           Jordan         13.000000\n",
       "186           Syria         16.700001\n",
       "167    Saudi Arabia         17.700001\n",
       "55            Egypt         18.200001\n",
       "146        Pakistan         19.000000\n",
       "210     Yemen, Rep.         20.299999\n",
       "195         Tunisia         21.400000\n",
       "196          Turkey         21.900000\n",
       "130         Morocco         22.200001\n",
       "105         Lebanon         22.299999\n",
       "145            Oman         22.600000\n",
       "108           Libya         23.200001\n",
       "113  Macedonia, FYR         26.799999\n",
       "88             Iran         26.900000\n",
       "181           Sudan         27.900000"
      ]
     },
     "execution_count": 22,
     "metadata": {},
     "output_type": "execute_result"
    }
   ],
   "source": [
    "print('2007 Least Female employed countries female employees age 15+ (% of population)')\n",
    "Least_Employed_Females = df.loc[df.Female_employment_class == 'Extremely Low Females Employed',['country','femaleemployrate']]\n",
    "Least_Employed_Females.sort_values(by=['femaleemployrate'])"
   ]
  },
  {
   "cell_type": "markdown",
   "metadata": {},
   "source": [
    "# Due to the nature of Gapminder dataset, it was necesary to divide data into equal segments in order to understand the nature of the variables. due to this the data is then segmented almost equaly. however with the above analysis it is then possible to understand which are the richest and poorer countries in terms of income per capita, as well as employment rate and female employment rate. with this preliminary analysis one can already find certain questions to analyse further such as why are the most employed countries not in the list of richest countries in terms of income per capita and so forth. "
   ]
  },
  {
   "cell_type": "code",
   "execution_count": 23,
   "metadata": {},
   "outputs": [],
   "source": [
    "df2 = df[['country','incomeperperson','employrate', 'femaleemployrate',\n",
    "          'polityscore','internetuserate','alcconsumption','relectricperperson',\n",
    "          'income_class', 'employment_class' , 'Female_employment_class']]"
   ]
  },
  {
   "cell_type": "code",
   "execution_count": 24,
   "metadata": {},
   "outputs": [
    {
     "name": "stdout",
     "output_type": "stream",
     "text": [
      "<class 'pandas.core.frame.DataFrame'>\n",
      "Int64Index: 152 entries, 1 to 212\n",
      "Data columns (total 11 columns):\n",
      "country                    152 non-null object\n",
      "incomeperperson            152 non-null float64\n",
      "employrate                 152 non-null float64\n",
      "femaleemployrate           152 non-null float64\n",
      "polityscore                152 non-null float64\n",
      "internetuserate            150 non-null float64\n",
      "alcconsumption             152 non-null float64\n",
      "relectricperperson         123 non-null float64\n",
      "income_class               152 non-null category\n",
      "employment_class           152 non-null category\n",
      "Female_employment_class    152 non-null category\n",
      "dtypes: category(3), float64(7), object(1)\n",
      "memory usage: 12.3+ KB\n"
     ]
    }
   ],
   "source": [
    "df2.info()"
   ]
  },
  {
   "cell_type": "code",
   "execution_count": 25,
   "metadata": {},
   "outputs": [
    {
     "data": {
      "text/html": [
       "<div>\n",
       "<style scoped>\n",
       "    .dataframe tbody tr th:only-of-type {\n",
       "        vertical-align: middle;\n",
       "    }\n",
       "\n",
       "    .dataframe tbody tr th {\n",
       "        vertical-align: top;\n",
       "    }\n",
       "\n",
       "    .dataframe thead th {\n",
       "        text-align: right;\n",
       "    }\n",
       "</style>\n",
       "<table border=\"1\" class=\"dataframe\">\n",
       "  <thead>\n",
       "    <tr style=\"text-align: right;\">\n",
       "      <th></th>\n",
       "      <th>country</th>\n",
       "      <th>incomeperperson</th>\n",
       "      <th>employrate</th>\n",
       "      <th>femaleemployrate</th>\n",
       "      <th>polityscore</th>\n",
       "      <th>internetuserate</th>\n",
       "      <th>alcconsumption</th>\n",
       "      <th>relectricperperson</th>\n",
       "      <th>income_class</th>\n",
       "      <th>employment_class</th>\n",
       "      <th>Female_employment_class</th>\n",
       "    </tr>\n",
       "  </thead>\n",
       "  <tbody>\n",
       "    <tr>\n",
       "      <td>1</td>\n",
       "      <td>Albania</td>\n",
       "      <td>1914.996551</td>\n",
       "      <td>51.400002</td>\n",
       "      <td>42.099998</td>\n",
       "      <td>9.0</td>\n",
       "      <td>44.989947</td>\n",
       "      <td>7.29</td>\n",
       "      <td>636.341383</td>\n",
       "      <td>Middle</td>\n",
       "      <td>Middle Unemployed</td>\n",
       "      <td>Midle low females Employed</td>\n",
       "    </tr>\n",
       "    <tr>\n",
       "      <td>2</td>\n",
       "      <td>Algeria</td>\n",
       "      <td>2231.993335</td>\n",
       "      <td>50.500000</td>\n",
       "      <td>31.700001</td>\n",
       "      <td>2.0</td>\n",
       "      <td>12.500073</td>\n",
       "      <td>0.69</td>\n",
       "      <td>590.509814</td>\n",
       "      <td>middle rich</td>\n",
       "      <td>Very Unemployed</td>\n",
       "      <td>Very Low Females Employed</td>\n",
       "    </tr>\n",
       "    <tr>\n",
       "      <td>4</td>\n",
       "      <td>Angola</td>\n",
       "      <td>1381.004268</td>\n",
       "      <td>75.699997</td>\n",
       "      <td>69.400002</td>\n",
       "      <td>-2.0</td>\n",
       "      <td>9.999954</td>\n",
       "      <td>5.57</td>\n",
       "      <td>172.999227</td>\n",
       "      <td>Middle</td>\n",
       "      <td>Most Employed</td>\n",
       "      <td>Most Employed Females</td>\n",
       "    </tr>\n",
       "    <tr>\n",
       "      <td>6</td>\n",
       "      <td>Argentina</td>\n",
       "      <td>10749.419238</td>\n",
       "      <td>58.400002</td>\n",
       "      <td>45.900002</td>\n",
       "      <td>8.0</td>\n",
       "      <td>36.000335</td>\n",
       "      <td>9.35</td>\n",
       "      <td>768.428300</td>\n",
       "      <td>Extremely Rich</td>\n",
       "      <td>Middle</td>\n",
       "      <td>Middle Females Employed</td>\n",
       "    </tr>\n",
       "    <tr>\n",
       "      <td>7</td>\n",
       "      <td>Armenia</td>\n",
       "      <td>1326.741757</td>\n",
       "      <td>40.099998</td>\n",
       "      <td>34.200001</td>\n",
       "      <td>5.0</td>\n",
       "      <td>44.001025</td>\n",
       "      <td>13.66</td>\n",
       "      <td>603.763058</td>\n",
       "      <td>Middle</td>\n",
       "      <td>Extremely Unemployed</td>\n",
       "      <td>Very Low Females Employed</td>\n",
       "    </tr>\n",
       "  </tbody>\n",
       "</table>\n",
       "</div>"
      ],
      "text/plain": [
       "     country  incomeperperson  employrate  femaleemployrate  polityscore  \\\n",
       "1    Albania      1914.996551   51.400002         42.099998          9.0   \n",
       "2    Algeria      2231.993335   50.500000         31.700001          2.0   \n",
       "4     Angola      1381.004268   75.699997         69.400002         -2.0   \n",
       "6  Argentina     10749.419238   58.400002         45.900002          8.0   \n",
       "7    Armenia      1326.741757   40.099998         34.200001          5.0   \n",
       "\n",
       "   internetuserate  alcconsumption  relectricperperson    income_class  \\\n",
       "1        44.989947            7.29          636.341383          Middle   \n",
       "2        12.500073            0.69          590.509814     middle rich   \n",
       "4         9.999954            5.57          172.999227          Middle   \n",
       "6        36.000335            9.35          768.428300  Extremely Rich   \n",
       "7        44.001025           13.66          603.763058          Middle   \n",
       "\n",
       "       employment_class     Female_employment_class  \n",
       "1     Middle Unemployed  Midle low females Employed  \n",
       "2       Very Unemployed   Very Low Females Employed  \n",
       "4         Most Employed       Most Employed Females  \n",
       "6                Middle    Middle Females Employed   \n",
       "7  Extremely Unemployed   Very Low Females Employed  "
      ]
     },
     "execution_count": 25,
     "metadata": {},
     "output_type": "execute_result"
    }
   ],
   "source": [
    "df2.head()"
   ]
  },
  {
   "cell_type": "markdown",
   "metadata": {},
   "source": [
    "# Final task 4th Week , Graphing Variables "
   ]
  },
  {
   "cell_type": "markdown",
   "metadata": {},
   "source": [
    "### Descriptive statistics "
   ]
  },
  {
   "cell_type": "code",
   "execution_count": 97,
   "metadata": {},
   "outputs": [
    {
     "data": {
      "text/html": [
       "<div>\n",
       "<style scoped>\n",
       "    .dataframe tbody tr th:only-of-type {\n",
       "        vertical-align: middle;\n",
       "    }\n",
       "\n",
       "    .dataframe tbody tr th {\n",
       "        vertical-align: top;\n",
       "    }\n",
       "\n",
       "    .dataframe thead th {\n",
       "        text-align: right;\n",
       "    }\n",
       "</style>\n",
       "<table border=\"1\" class=\"dataframe\">\n",
       "  <thead>\n",
       "    <tr style=\"text-align: right;\">\n",
       "      <th></th>\n",
       "      <th>incomeperperson</th>\n",
       "      <th>employrate</th>\n",
       "      <th>femaleemployrate</th>\n",
       "      <th>polityscore</th>\n",
       "      <th>internetuserate</th>\n",
       "      <th>alcconsumption</th>\n",
       "      <th>relectricperperson</th>\n",
       "    </tr>\n",
       "  </thead>\n",
       "  <tbody>\n",
       "    <tr>\n",
       "      <td>incomeperperson</td>\n",
       "      <td>1.000000</td>\n",
       "      <td>-0.040390</td>\n",
       "      <td>-0.017725</td>\n",
       "      <td>0.286833</td>\n",
       "      <td>0.814343</td>\n",
       "      <td>0.288665</td>\n",
       "      <td>0.696845</td>\n",
       "    </tr>\n",
       "    <tr>\n",
       "      <td>employrate</td>\n",
       "      <td>-0.040390</td>\n",
       "      <td>1.000000</td>\n",
       "      <td>0.856878</td>\n",
       "      <td>-0.132070</td>\n",
       "      <td>-0.228859</td>\n",
       "      <td>-0.118685</td>\n",
       "      <td>0.130502</td>\n",
       "    </tr>\n",
       "    <tr>\n",
       "      <td>femaleemployrate</td>\n",
       "      <td>-0.017725</td>\n",
       "      <td>0.856878</td>\n",
       "      <td>1.000000</td>\n",
       "      <td>0.067378</td>\n",
       "      <td>-0.136574</td>\n",
       "      <td>0.175521</td>\n",
       "      <td>-0.019845</td>\n",
       "    </tr>\n",
       "    <tr>\n",
       "      <td>polityscore</td>\n",
       "      <td>0.286833</td>\n",
       "      <td>-0.132070</td>\n",
       "      <td>0.067378</td>\n",
       "      <td>1.000000</td>\n",
       "      <td>0.363882</td>\n",
       "      <td>0.408420</td>\n",
       "      <td>0.001091</td>\n",
       "    </tr>\n",
       "    <tr>\n",
       "      <td>internetuserate</td>\n",
       "      <td>0.814343</td>\n",
       "      <td>-0.228859</td>\n",
       "      <td>-0.136574</td>\n",
       "      <td>0.363882</td>\n",
       "      <td>1.000000</td>\n",
       "      <td>0.540564</td>\n",
       "      <td>0.646907</td>\n",
       "    </tr>\n",
       "    <tr>\n",
       "      <td>alcconsumption</td>\n",
       "      <td>0.288665</td>\n",
       "      <td>-0.118685</td>\n",
       "      <td>0.175521</td>\n",
       "      <td>0.408420</td>\n",
       "      <td>0.540564</td>\n",
       "      <td>1.000000</td>\n",
       "      <td>0.091546</td>\n",
       "    </tr>\n",
       "    <tr>\n",
       "      <td>relectricperperson</td>\n",
       "      <td>0.696845</td>\n",
       "      <td>0.130502</td>\n",
       "      <td>-0.019845</td>\n",
       "      <td>0.001091</td>\n",
       "      <td>0.646907</td>\n",
       "      <td>0.091546</td>\n",
       "      <td>1.000000</td>\n",
       "    </tr>\n",
       "  </tbody>\n",
       "</table>\n",
       "</div>"
      ],
      "text/plain": [
       "                    incomeperperson  employrate  femaleemployrate  \\\n",
       "incomeperperson            1.000000   -0.040390         -0.017725   \n",
       "employrate                -0.040390    1.000000          0.856878   \n",
       "femaleemployrate          -0.017725    0.856878          1.000000   \n",
       "polityscore                0.286833   -0.132070          0.067378   \n",
       "internetuserate            0.814343   -0.228859         -0.136574   \n",
       "alcconsumption             0.288665   -0.118685          0.175521   \n",
       "relectricperperson         0.696845    0.130502         -0.019845   \n",
       "\n",
       "                    polityscore  internetuserate  alcconsumption  \\\n",
       "incomeperperson        0.286833         0.814343        0.288665   \n",
       "employrate            -0.132070        -0.228859       -0.118685   \n",
       "femaleemployrate       0.067378        -0.136574        0.175521   \n",
       "polityscore            1.000000         0.363882        0.408420   \n",
       "internetuserate        0.363882         1.000000        0.540564   \n",
       "alcconsumption         0.408420         0.540564        1.000000   \n",
       "relectricperperson     0.001091         0.646907        0.091546   \n",
       "\n",
       "                    relectricperperson  \n",
       "incomeperperson               0.696845  \n",
       "employrate                    0.130502  \n",
       "femaleemployrate             -0.019845  \n",
       "polityscore                   0.001091  \n",
       "internetuserate               0.646907  \n",
       "alcconsumption                0.091546  \n",
       "relectricperperson            1.000000  "
      ]
     },
     "execution_count": 97,
     "metadata": {},
     "output_type": "execute_result"
    }
   ],
   "source": [
    "df2.iloc[:,:].corr() "
   ]
  },
  {
   "cell_type": "markdown",
   "metadata": {},
   "source": [
    "## Univariate Histograms for quantitative data. "
   ]
  },
  {
   "cell_type": "markdown",
   "metadata": {},
   "source": [
    "### Income Per Person "
   ]
  },
  {
   "cell_type": "code",
   "execution_count": 53,
   "metadata": {},
   "outputs": [
    {
     "data": {
      "text/plain": [
       "Text(0.5, 1.0, 'Income Per Capita Distribution Chart')"
      ]
     },
     "execution_count": 53,
     "metadata": {},
     "output_type": "execute_result"
    },
    {
     "data": {
      "image/png": "[encoded data removed]",
      "text/plain": [
       "<Figure size 864x360 with 1 Axes>"
      ]
     },
     "metadata": {
      "needs_background": "light"
     },
     "output_type": "display_data"
    }
   ],
   "source": [
    "plt.figure(figsize=(12,5))\n",
    "sns.distplot(df2['incomeperperson'], kde=False)\n",
    "plt.xticks([0, 2500, 5000, 7500, 10000, 12500, 15000, 20000, 25000, 30000, 35000, 40000 ,])\n",
    "plt.yticks([0, 5, 10, 15, 20, 25, 30, 35, 40, 45, 50, 55, 60, 65, 70, 75, 80])\n",
    "plt.xlabel('Poorer <----------------------Gross Domestic Product per capita in constant 2000 US$----------------------> Richest')\n",
    "plt.ylabel('Amount of Countries ')\n",
    "plt.title('Income Per Capita Distribution Chart')"
   ]
  },
  {
   "cell_type": "markdown",
   "metadata": {},
   "source": [
    "#### As Evidences in the above chart most of the world countries indeed fall into the low category from 0 to 2500 in constant 2000 US, the Histogram is thus skewed to the right.  "
   ]
  },
  {
   "cell_type": "markdown",
   "metadata": {},
   "source": [
    "### Employment Rate "
   ]
  },
  {
   "cell_type": "code",
   "execution_count": 47,
   "metadata": {},
   "outputs": [
    {
     "data": {
      "text/plain": [
       "Text(0.5, 1.0, 'Employment Rate Distribution Chart')"
      ]
     },
     "execution_count": 47,
     "metadata": {},
     "output_type": "execute_result"
    },
    {
     "data": {
      "image/png": "[encoded data removed]",
      "text/plain": [
       "<Figure size 864x360 with 1 Axes>"
      ]
     },
     "metadata": {
      "needs_background": "light"
     },
     "output_type": "display_data"
    }
   ],
   "source": [
    "plt.figure(figsize=(12,5))\n",
    "sns.distplot(df2['employrate'], kde=False)\n",
    "plt.xlabel('total employees age 15+ (% of population)')\n",
    "plt.ylabel(' Amount of Countries')\n",
    "plt.title('Employment Rate Distribution Chart')"
   ]
  },
  {
   "cell_type": "markdown",
   "metadata": {},
   "source": [
    "#### In this Histogram we see a very evenly distributed Histogram where most of the countries fall in the middle this an Unimodal distribution. "
   ]
  },
  {
   "cell_type": "markdown",
   "metadata": {},
   "source": [
    "### Female Employment Rate "
   ]
  },
  {
   "cell_type": "code",
   "execution_count": 48,
   "metadata": {},
   "outputs": [
    {
     "data": {
      "text/plain": [
       "Text(0.5, 1.0, 'Female Employment Rate Distribution Chart')"
      ]
     },
     "execution_count": 48,
     "metadata": {},
     "output_type": "execute_result"
    },
    {
     "data": {
      "image/png": "[encoded data removed]",
      "text/plain": [
       "<Figure size 864x360 with 1 Axes>"
      ]
     },
     "metadata": {
      "needs_background": "light"
     },
     "output_type": "display_data"
    }
   ],
   "source": [
    "plt.figure(figsize=(12,5))\n",
    "sns.distplot(df2['femaleemployrate'], kde=False)\n",
    "plt.xlabel(' female employees age 15+ (% of population)')\n",
    "plt.ylabel(' Amount of Countries')\n",
    "plt.title('Female Employment Rate Distribution Chart')"
   ]
  },
  {
   "cell_type": "markdown",
   "metadata": {},
   "source": [
    "#### In this Histogram we see a very evenly distributed Histogram where most of the countries fall in the middle. "
   ]
  },
  {
   "cell_type": "code",
   "execution_count": 57,
   "metadata": {},
   "outputs": [
    {
     "data": {
      "text/plain": [
       "Text(0.5, 1.0, 'Internet User Rate Distribution Chart')"
      ]
     },
     "execution_count": 57,
     "metadata": {},
     "output_type": "execute_result"
    },
    {
     "data": {
      "image/png": "[encoded data removed]",
      "text/plain": [
       "<Figure size 864x360 with 1 Axes>"
      ]
     },
     "metadata": {
      "needs_background": "light"
     },
     "output_type": "display_data"
    }
   ],
   "source": [
    "plt.figure(figsize=(12,5))\n",
    "sns.distplot(df2['internetuserate'].dropna(), kde=False)\n",
    "plt.xlabel(' Internet users (per 100 people)')\n",
    "plt.ylabel(' Amount of Countries')\n",
    "plt.title('Internet User Rate Distribution Chart')"
   ]
  },
  {
   "cell_type": "markdown",
   "metadata": {},
   "source": [
    "#### As Expected in this chart we can see there is a high concentration of countries that have 0 to very low internet user rate, thus this is the reason why this variable correlates so strongly with income per person. the histogram illustrates this by being skewed to the right. "
   ]
  },
  {
   "cell_type": "code",
   "execution_count": 75,
   "metadata": {},
   "outputs": [
    {
     "data": {
      "text/plain": [
       "Text(0.5, 1, 'Internet User Rate for Income Class')"
      ]
     },
     "execution_count": 75,
     "metadata": {},
     "output_type": "execute_result"
    },
    {
     "data": {
      "image/png": "[encoded data removed]",
      "text/plain": [
       "<Figure size 360x360 with 1 Axes>"
      ]
     },
     "metadata": {
      "needs_background": "light"
     },
     "output_type": "display_data"
    }
   ],
   "source": [
    "sns.catplot(x = 'internetuserate', y = 'income_class',data = df2, kind = 'bar' , ci = None, )\n",
    "plt.xlabel(' Internet users (per 100 people)')\n",
    "plt.ylabel(' Income class of countries ')\n",
    "plt.title('Internet User Rate for Income Class')"
   ]
  },
  {
   "cell_type": "markdown",
   "metadata": {},
   "source": [
    "#### Looking into INTERNET USER RATE and INCOME CLASS together  it is clear that the richest countries have higher internet rate. as illustrated by the figure above the richest countries have considerable more internet users per 100 people than even the extremely rich and a huge difference with the Extremely Poor countries. "
   ]
  },
  {
   "cell_type": "code",
   "execution_count": 76,
   "metadata": {},
   "outputs": [
    {
     "data": {
      "text/plain": [
       "Text(0.5, 1, 'Employment Rate for Income Class')"
      ]
     },
     "execution_count": 76,
     "metadata": {},
     "output_type": "execute_result"
    },
    {
     "data": {
      "image/png": "[encoded data removed]",
      "text/plain": [
       "<Figure size 360x360 with 1 Axes>"
      ]
     },
     "metadata": {
      "needs_background": "light"
     },
     "output_type": "display_data"
    }
   ],
   "source": [
    "sns.catplot(x = 'employrate', y = 'income_class',data = df2, kind = 'bar' , ci = None, )\n",
    "plt.xlabel(' 2007 total employees age 15+ (% of population)')\n",
    "plt.ylabel(' Income class of countries')\n",
    "plt.title('Employment Rate for Income Class')"
   ]
  },
  {
   "cell_type": "code",
   "execution_count": 77,
   "metadata": {},
   "outputs": [
    {
     "data": {
      "text/plain": [
       "Text(0.5, 1, 'Female Employment Rate for Income Class')"
      ]
     },
     "execution_count": 77,
     "metadata": {},
     "output_type": "execute_result"
    },
    {
     "data": {
      "image/png": "[encoded data removed]",
      "text/plain": [
       "<Figure size 360x360 with 1 Axes>"
      ]
     },
     "metadata": {
      "needs_background": "light"
     },
     "output_type": "display_data"
    }
   ],
   "source": [
    "sns.catplot(x = 'femaleemployrate', y = 'income_class',data = df2, kind = 'bar' , ci = None, )\n",
    "plt.xlabel('2007 female employees age 15+ (% of population)')\n",
    "plt.ylabel(' Income class of countries')\n",
    "plt.title('Female Employment Rate for Income Class')"
   ]
  },
  {
   "cell_type": "markdown",
   "metadata": {},
   "source": [
    "#### Conversely we see a very even distribution between employment rate and female employment rate from the extremely poor to the richest countries thus showing very little effect on a country being richer per capita. "
   ]
  },
  {
   "cell_type": "code",
   "execution_count": 78,
   "metadata": {},
   "outputs": [
    {
     "data": {
      "text/plain": [
       "Text(0.5, 1, 'Democracy Score for Income Class')"
      ]
     },
     "execution_count": 78,
     "metadata": {},
     "output_type": "execute_result"
    },
    {
     "data": {
      "image/png": "[encoded data removed]",
      "text/plain": [
       "<Figure size 360x360 with 1 Axes>"
      ]
     },
     "metadata": {
      "needs_background": "light"
     },
     "output_type": "display_data"
    }
   ],
   "source": [
    "sns.catplot(x = 'polityscore', y = 'income_class',data = df2, kind = 'bar' , ci = None, )\n",
    "plt.xlabel('measure of a countrys democratic and free nature. -10 is the lowest value, 10 the highest.')\n",
    "plt.ylabel(' Income class of users')\n",
    "plt.title('Democracy Score for Income Class')"
   ]
  },
  {
   "cell_type": "markdown",
   "metadata": {},
   "source": [
    "#### While comparing the Democracy score we see that the richest countries also have the highest democatric and free nature of them all, however interestingly enough we see the \"poor\" countries have a considerably higher schore that \"middle to middle rich\" and \"extremely poor\" to \"middle poor\". "
   ]
  },
  {
   "cell_type": "code",
   "execution_count": 80,
   "metadata": {},
   "outputs": [
    {
     "data": {
      "text/plain": [
       "Text(0.5, 1, 'Alcohol consumption for Income Class')"
      ]
     },
     "execution_count": 80,
     "metadata": {},
     "output_type": "execute_result"
    },
    {
     "data": {
      "image/png": "[encoded data removed]",
      "text/plain": [
       "<Figure size 360x360 with 1 Axes>"
      ]
     },
     "metadata": {
      "needs_background": "light"
     },
     "output_type": "display_data"
    }
   ],
   "source": [
    "sns.catplot(x = 'alcconsumption', y = 'income_class',data = df2, kind = 'bar' , ci = None, )\n",
    "plt.xlabel('alcohol consumption per adult (age 15+), litres')\n",
    "plt.ylabel(' Income class of countries')\n",
    "plt.title('Alcohol consumption for Income Class')"
   ]
  },
  {
   "cell_type": "code",
   "execution_count": 81,
   "metadata": {},
   "outputs": [
    {
     "data": {
      "text/plain": [
       "Text(0.5, 1, 'Electricity Consumption for Income Class')"
      ]
     },
     "execution_count": 81,
     "metadata": {},
     "output_type": "execute_result"
    },
    {
     "data": {
      "image/png": "[encoded data removed]",
      "text/plain": [
       "<Figure size 360x360 with 1 Axes>"
      ]
     },
     "metadata": {
      "needs_background": "light"
     },
     "output_type": "display_data"
    }
   ],
   "source": [
    "sns.catplot(x = 'relectricperperson', y = 'income_class',data = df2, kind = 'bar' , ci = None, )\n",
    "plt.xlabel('2008 residential electricity consumption, per person (kWh)')\n",
    "plt.ylabel(' Income class of countries')\n",
    "plt.title('Electricity Consumption for Income Class')"
   ]
  },
  {
   "cell_type": "markdown",
   "metadata": {},
   "source": [
    "#### We can also see a high electricity consumption for the richest and extremely rich contries as opposed to the poorest countries. "
   ]
  },
  {
   "cell_type": "code",
   "execution_count": 92,
   "metadata": {},
   "outputs": [
    {
     "data": {
      "text/plain": [
       "Text(0.5, 1, 'Breast cancer rate per 100K females for Income Class')"
      ]
     },
     "execution_count": 92,
     "metadata": {},
     "output_type": "execute_result"
    },
    {
     "data": {
      "image/png": "[encoded data removed]",
      "text/plain": [
       "<Figure size 360x360 with 1 Axes>"
      ]
     },
     "metadata": {
      "needs_background": "light"
     },
     "output_type": "display_data"
    }
   ],
   "source": [
    "sns.catplot(x = 'breastcancerper100th', y = 'income_class',data = df, kind = 'bar' , ci = None, )\n",
    "plt.xlabel('2002 breast cancer new cases per 100,000 female')\n",
    "plt.ylabel(' Income class of countries')\n",
    "plt.title('Breast cancer rate per 100K females for Income Class')"
   ]
  },
  {
   "cell_type": "markdown",
   "metadata": {},
   "source": [
    "#### Interestingly enough, we can see that the richest countrie also have the highest breast cancer rate per 100K females, but this might perhaps be explained by lack of diagnosis in the poorer countries, still perhaps further study into this would be interesting. "
   ]
  },
  {
   "cell_type": "code",
   "execution_count": 96,
   "metadata": {},
   "outputs": [
    {
     "data": {
      "text/plain": [
       "Text(0.5, 1, 'Life expectancy for Income Class')"
      ]
     },
     "execution_count": 96,
     "metadata": {},
     "output_type": "execute_result"
    },
    {
     "data": {
      "image/png": "[encoded data removed]",
      "text/plain": [
       "<Figure size 360x360 with 1 Axes>"
      ]
     },
     "metadata": {
      "needs_background": "light"
     },
     "output_type": "display_data"
    }
   ],
   "source": [
    "sns.catplot(x = 'lifeexpectancy', y = 'income_class',data = df, kind = 'bar' , ci = None, )\n",
    "plt.xlabel('Average life expectancy')\n",
    "plt.ylabel(' Income class of countries')\n",
    "plt.title('Life expectancy for Income Class')"
   ]
  },
  {
   "cell_type": "markdown",
   "metadata": {},
   "source": [
    "#### I thought perhaps life expentancy could show a lower average in the richest countries due to the above breast cancer table but it seems to be the richest the country is the more life expectancy, explained perhaps by higher medical care and services. "
   ]
  },
  {
   "cell_type": "markdown",
   "metadata": {},
   "source": [
    "## Creating scatterplots to show correlation between variables\n",
    "\n",
    "### By looking into the above analysis I will create correlation scatterplots on the variables I found most correlated to income per person, Namely: Internet user rate,  polity score and electricity usage "
   ]
  },
  {
   "cell_type": "code",
   "execution_count": 104,
   "metadata": {},
   "outputs": [
    {
     "data": {
      "text/plain": [
       "Text(0.5, 1.0, 'Scatterplot for the association between Internet User Rate for Income Per Person')"
      ]
     },
     "execution_count": 104,
     "metadata": {},
     "output_type": "execute_result"
    },
    {
     "data": {
      "image/png": "[encoded data removed]",
      "text/plain": [
       "<Figure size 864x360 with 1 Axes>"
      ]
     },
     "metadata": {
      "needs_background": "light"
     },
     "output_type": "display_data"
    }
   ],
   "source": [
    "plt.figure(figsize=(12,5))\n",
    "scat1 = sns.regplot(x = 'internetuserate', y = 'incomeperperson', data = df2)\n",
    "plt.xlabel(' Internet users (per 100 people)')\n",
    "plt.ylabel(' Income per person in constant 2000 US$ ')\n",
    "plt.title('Scatterplot for the association between Internet User Rate for Income Per Person')\n"
   ]
  },
  {
   "cell_type": "markdown",
   "metadata": {},
   "source": [
    "### With the above scatterplot we can see there is a correlation between internet usage and income per person, poorest countries are clustered with low values and the richest countries drive the line upwards with high numbers of income and internet usage. "
   ]
  },
  {
   "cell_type": "code",
   "execution_count": 105,
   "metadata": {},
   "outputs": [
    {
     "data": {
      "text/plain": [
       "Text(0.5, 1.0, 'Scatterplot for the association between Democratic Score and Income Per Person')"
      ]
     },
     "execution_count": 105,
     "metadata": {},
     "output_type": "execute_result"
    },
    {
     "data": {
      "image/png": "[encoded data removed]",
      "text/plain": [
       "<Figure size 864x360 with 1 Axes>"
      ]
     },
     "metadata": {
      "needs_background": "light"
     },
     "output_type": "display_data"
    }
   ],
   "source": [
    "plt.figure(figsize=(12,5))\n",
    "scat1 = sns.regplot(x = 'polityscore', y = 'incomeperperson', data = df2)\n",
    "plt.xlabel(' measure of a countrys democratic and free nature. -10 is the lowest value, 10 the highest.')\n",
    "plt.ylabel(' Income per person in constant 2000 US$ ')\n",
    "plt.title('Scatterplot for the association between Democratic Score and Income Per Person')\n"
   ]
  },
  {
   "cell_type": "markdown",
   "metadata": {},
   "source": [
    "### In this scatterplot we see the line is highly driven by the richest countries which share high democatric score driving the line upwards, however there are also some outliers in the low to mid range of the democratic score measures having high income but comparatively lower democratic score. "
   ]
  },
  {
   "cell_type": "code",
   "execution_count": 108,
   "metadata": {},
   "outputs": [
    {
     "data": {
      "text/plain": [
       "Text(0.5, 1.0, 'Scatterplot for the association between Electricity consumption and Income Per Person')"
      ]
     },
     "execution_count": 108,
     "metadata": {},
     "output_type": "execute_result"
    },
    {
     "data": {
      "image/png": "[encoded data removed]",
      "text/plain": [
       "<Figure size 864x360 with 1 Axes>"
      ]
     },
     "metadata": {
      "needs_background": "light"
     },
     "output_type": "display_data"
    }
   ],
   "source": [
    "plt.figure(figsize=(12,5))\n",
    "scat1 = sns.regplot(x = 'incomeperperson', y = 'relectricperperson', data = df2)\n",
    "plt.xlabel(' Income per person in constant 2000 US$ ')\n",
    "plt.ylabel(' measure of  residential electricity consumption, per person (kWh)')\n",
    "plt.title('Scatterplot for the association between Electricity consumption and Income Per Person')\n",
    "\n"
   ]
  },
  {
   "cell_type": "markdown",
   "metadata": {},
   "source": [
    "### Lastly in this scatterplot we see most countries, the poorest of them all are clustered in the low end of income per person and electricity usage and then the line is driven upwards by the richer countries as they scale. "
   ]
  },
  {
   "cell_type": "markdown",
   "metadata": {},
   "source": [
    "# conclusion. "
   ]
  },
  {
   "cell_type": "markdown",
   "metadata": {},
   "source": [
    "## To conclude this study I will answer the research questions put forward at the start of this analysis \n",
    "\n",
    "##### 1)does female employment rate, and general employment rate have a relation on Income per capita in richer countries and which have a greater effect on poorer countries. \n",
    "\n",
    "Female employment rate and general employment rate as evidenced by above chart had very little difference between the richest and poorest countries, as far as my analysis went considering more in dept anaysis would be necesary there is no direct relation between countries with more female employed or more employment rate and income per capita as the data is very evenly distributed. this means it is more the amount earned rather than the amount of people employed. \n",
    "\n",
    "this is evidenced also by the lack of correlation between this variables and income per person at -0.040390\tand -0.017725 respectively. \n",
    "\n",
    "#### 2)to what extend Is internet user rate associated with richer countries in terms of income per capita?  \n",
    "According to the above charts and analysis internet user rate has a considerably high correlation of 0.814343 with Income Per capita, explaining that the access to the internet has a great effect or rather is a big concequence of higher income countries. \n",
    "\n",
    "#### 3)Is electric consumption a determining factor in richer countries, how does it affect poorer countries\n",
    "with a correlation of 0.696845 and evidenced by the above charts, electric consultion is a determining factor in riher countries. the effect on poorer countries would need to be further explored but with most poor countries clustered in the low end of electricity usage this lack of resource with inevitable hinder their ability to compete with richer countries. \n",
    "\n",
    "\n",
    "#### 4) to what extend does alcohol consumption affect income per capita? \n",
    "Interetingly enough there seems to be a higher alcohol consumption on richer countries than in poor countries and it is evidenced by a correlation of 0.288665. there is however more in dept studies required to understand the real effect it has on income per capita. whether it is a concequence of a more confortable and worry free lifestile or perhaps a factor of stress of the urban high paced life of rich countries. "
   ]
  },
  {
   "cell_type": "code",
   "execution_count": null,
   "metadata": {},
   "outputs": [],
   "source": []
  }
 ],
 "metadata": {
  "kernelspec": {
   "display_name": "Python 3",
   "language": "python",
   "name": "python3"
  },
  "language_info": {
   "codemirror_mode": {
    "name": "ipython",
    "version": 3
   },
   "file_extension": ".py",
   "mimetype": "text/x-python",
   "name": "python",
   "nbconvert_exporter": "python",
   "pygments_lexer": "ipython3",
   "version": "3.7.4"
  }
 },
 "nbformat": 4,
 "nbformat_minor": 2
}
